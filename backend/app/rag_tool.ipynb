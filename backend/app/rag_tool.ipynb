{
 "cells": [
  {
   "cell_type": "markdown",
   "id": "fed62999-ea8c-4f28-bba9-3d3c9b5d3f61",
   "metadata": {},
   "source": [
    "# RAG System"
   ]
  },
  {
   "cell_type": "markdown",
   "id": "611f6074-8fc3-47fc-bb70-f04054c9372b",
   "metadata": {},
   "source": [
    "The goal of this notebook is to develop a streamlined tool that will parse in a natural language request or receive a json object to retrieve specific records.\n",
    "\n",
    "For example a user may request to the assistant \"What are the ten streets with most pothole's?\"\n",
    "\n",
    "The RAG system is only one piece of the puzzle to an agentic virtual assistant that will allow executives to make informed decisions such as budgeting, project prioritization, evaluation of success, among many other applications."
   ]
  },
  {
   "cell_type": "markdown",
   "id": "37236dec-a668-4c16-8c12-d226c09788db",
   "metadata": {},
   "source": [
    "## Step 1) Develop retrieval tool"
   ]
  },
  {
   "cell_type": "markdown",
   "id": "bb19934f-1367-41f0-a1d3-a5a402be6687",
   "metadata": {},
   "source": [
    "We will start off with the development of the retrieval tool"
   ]
  },
  {
   "cell_type": "code",
   "execution_count": 75,
   "id": "591a4b8d-3164-49fd-b9bc-a9fb8ef94a57",
   "metadata": {},
   "outputs": [],
   "source": [
    "import pandas as pd # this allow us to read in data and perform eda\n",
    "import numpy as np # used to manipulate and transform data efficiently\n",
    "import duckdb # will serve as our local database\n",
    "import re\n",
    "from typing import List, Optional, Union"
   ]
  },
  {
   "cell_type": "markdown",
   "id": "cf1ff1f9-c332-4207-875a-33b0801143ee",
   "metadata": {},
   "source": [
    "Our RAG solution should receive either street name, district, zipcode, or a combination of such. We may also send in optional parameters such as year, month, day (Monday, Tuesday,...) for which to base the query on, and return the relevant records.\n",
    "\n",
    "The current implementation ---..."
   ]
  },
  {
   "cell_type": "code",
   "execution_count": 76,
   "id": "fed00c2c-a7b9-44cf-8660-78562992928b",
   "metadata": {},
   "outputs": [],
   "source": [
    "conn = duckdb.connect('potholess.db') # establish connection to local database\n",
    "conn.sql(\"\"\"\n",
    "    CREATE TABLE IF NOT EXISTS potholes\n",
    "    AS SELECT * FROM 'potholes.parquet'\n",
    "\"\"\") # creates a table if it does not already exist, and loads in the data stored in the parquet file"
   ]
  },
  {
   "cell_type": "code",
   "execution_count": 77,
   "id": "ad25ae2b-de6a-4f6e-a275-adeb521fc8f3",
   "metadata": {},
   "outputs": [],
   "source": [
    "import re\n",
    "from typing import Optional, Union, List\n",
    "\n",
    "def query_table(street=None, year=None, zipcode=None, district=None):\n",
    "    base_query = \"\"\"\n",
    "        SELECT latitude, longitude, street_name, year, council_district\n",
    "        FROM potholes WHERE 1=1\n",
    "    \"\"\"\n",
    "    params = []\n",
    "\n",
    "    if isinstance(street, str):\n",
    "        safe_street = street.replace(\"'\", \"''\")\n",
    "        base_query += f\" AND street_name ILIKE '%{safe_street}%'\"\n",
    "\n",
    "    if isinstance(year, int):\n",
    "        base_query += \" AND year = ?\"\n",
    "        params.append(year)\n",
    "    elif year in (\"historical\", None):\n",
    "        pass  # no year filter\n",
    "    else:\n",
    "        raise ValueError(\"Year must be an integer, 'historical', or None\")\n",
    "\n",
    "    if isinstance(zipcode, int):\n",
    "        base_query += \" AND zipcode = ?\"\n",
    "        params.append(zipcode)\n",
    "\n",
    "    if isinstance(district, int):\n",
    "        base_query += \" AND council_district = ?\"\n",
    "        params.append(district)\n",
    "\n",
    "    # Place the debug prints here, after base_query is fully constructed\n",
    "    print(\"QUERY:\", base_query)\n",
    "    print(\"PARAMS:\", params)\n",
    "\n",
    "    return conn.sql(base_query, params=params).fetchall()\n",
    "# def query_table(street=None, year: Union[int, str, None] = 2024, zipcode = None, district = None) -> List[tuple]:\n",
    "#     \"\"\"\n",
    "#     Return pothole records where street name matches a full word (case-insensitive),\n",
    "#     optionally filtered by year (2018–2024), or include all years with 'historical' or None.\n",
    "\n",
    "#     Args:\n",
    "#         street: Target street name (matched as a full word).\n",
    "#         year: Integer year (2018–2024), or 'historical'/None for all years.\n",
    "#     \"\"\"\n",
    "    \n",
    "\n",
    "#     base_query = \"\"\"\n",
    "#         SELECT latitude, longitude, street_name, year, council_district\n",
    "#         FROM potholes WHERE 1=1\"\"\"\n",
    "#     params = []\n",
    "\n",
    "#     if isinstance(street, str):\n",
    "#         safe_pattern = r\"\\b\" + re.escape(street) + r\"\\b\"\n",
    "#         base_query += \" AND REGEXP_MATCHES(street_name, ?, 'i')\"\n",
    "#         params.append(safe_pattern)\n",
    "\n",
    "#     if isinstance(year, int) and 2018 <= year <= 2024:\n",
    "#         base_query += \" AND year = ?\"\n",
    "#         print(f'specified year: {year}')\n",
    "#         params.append(year)\n",
    "#     elif year in (\"historical\", None):\n",
    "#         print('no year filter')\n",
    "#         pass  # no year filter\n",
    "#     else:\n",
    "#         raise ValueError(\"Year must be 2018–2024, 'historical', or None\")\n",
    "\n",
    "#     if isinstance(zipcode, int):\n",
    "#         base_query += \" AND zipcode = ?\"\n",
    "#         print(f'specified zip: {zipcode}')\n",
    "#         params.append(zipcode)\n",
    "#     else:\n",
    "#         print('Searching all zips')\n",
    "\n",
    "#     if isinstance(district, int):\n",
    "#         base_query += \" AND council_district = ?\"\n",
    "#         print(f'specified district: {district}')\n",
    "#         params.append(district)\n",
    "#     else:\n",
    "#         print('Searching all district')\n",
    "#     print(base_query)\n",
    "#     print(params)\n",
    "\n",
    "#     return conn.sql(base_query, params=params).fetchall()"
   ]
  },
  {
   "cell_type": "code",
   "execution_count": 78,
   "id": "555b171e-93e7-422d-a34a-a95ed07217f9",
   "metadata": {},
   "outputs": [
    {
     "name": "stdout",
     "output_type": "stream",
     "text": [
      "QUERY: \n",
      "        SELECT latitude, longitude, street_name, year, council_district\n",
      "        FROM potholes WHERE 1=1\n",
      "     AND street_name ILIKE '%Main%' AND zipcode = ?\n",
      "PARAMS: [78204]\n"
     ]
    },
    {
     "data": {
      "text/plain": [
       "[(29.4152561051478, -98.4966523120534, 'S MAIN AVE and W SHERIDAN', 2024, 1),\n",
       " (29.4152561051478, -98.4966523120534, 'S MAIN AVE and W SHERIDAN', 2024, 1),\n",
       " (29.4218619032057, -98.4943894335149, 'S MAIN AVE', 2024, 1),\n",
       " (29.4148036832604, -98.4970157737168, 'MAIN AV S', 2018, 1),\n",
       " (29.4109451695356, -98.4985016105287, 'S MAIN AVE', 2020, 1),\n",
       " (29.4109451695356, -98.4985016105287, 'S MAIN AVE', 2022, 1)]"
      ]
     },
     "execution_count": 78,
     "metadata": {},
     "output_type": "execute_result"
    }
   ],
   "source": [
    "query_table('Main', zipcode=78204) # case for which only street and zipcode are provided, year is defaulted to 2024, district not specified"
   ]
  },
  {
   "cell_type": "code",
   "execution_count": 79,
   "id": "759fe860-8070-47e4-84da-12ed91ebf9e0",
   "metadata": {},
   "outputs": [
    {
     "name": "stdout",
     "output_type": "stream",
     "text": [
      "QUERY: \n",
      "        SELECT latitude, longitude, street_name, year, council_district\n",
      "        FROM potholes WHERE 1=1\n",
      "     AND street_name ILIKE '%Main%' AND year = ? AND zipcode = ?\n",
      "PARAMS: [2020, 78205]\n"
     ]
    },
    {
     "data": {
      "text/plain": [
       "[(29.4293463207256, -98.4939283493591, 'E MARTIN ST and N MAIN AVE', 2020, 1),\n",
       " (29.4285761721465, -98.4939070232682, 'E PECAN ST and N MAIN AVE', 2020, 1),\n",
       " (29.4293463207256, -98.4939283493591, 'E MARTIN ST and N MAIN AVE', 2020, 1),\n",
       " (29.4331144968272, -98.4940196838845, 'BUFFALO RUN and N MAIN AVE', 2020, 1),\n",
       " (29.4285761721465, -98.4939070232682, 'E PECAN ST and N MAIN AVE', 2020, 1),\n",
       " (29.4293463207256, -98.4939283493591, 'E MARTIN ST and N MAIN AVE', 2020, 1),\n",
       " (29.4287670299109, -98.4941951093899, 'N MAIN AVE', 2020, 1)]"
      ]
     },
     "execution_count": 79,
     "metadata": {},
     "output_type": "execute_result"
    }
   ],
   "source": [
    "query_table('Main', year=2020, zipcode=78205) # case for which street, year, and zipcode are provided"
   ]
  },
  {
   "cell_type": "code",
   "execution_count": 80,
   "id": "ed2789da-1c48-4369-bca5-de15a9cec5d2",
   "metadata": {},
   "outputs": [
    {
     "name": "stdout",
     "output_type": "stream",
     "text": [
      "QUERY: \n",
      "        SELECT latitude, longitude, street_name, year, council_district\n",
      "        FROM potholes WHERE 1=1\n",
      "     AND street_name ILIKE '%Main%' AND zipcode = ?\n",
      "PARAMS: [78204]\n"
     ]
    },
    {
     "data": {
      "text/plain": [
       "[(29.4152561051478, -98.4966523120534, 'S MAIN AVE and W SHERIDAN', 2024, 1),\n",
       " (29.4152561051478, -98.4966523120534, 'S MAIN AVE and W SHERIDAN', 2024, 1),\n",
       " (29.4218619032057, -98.4943894335149, 'S MAIN AVE', 2024, 1),\n",
       " (29.4148036832604, -98.4970157737168, 'MAIN AV S', 2018, 1),\n",
       " (29.4109451695356, -98.4985016105287, 'S MAIN AVE', 2020, 1),\n",
       " (29.4109451695356, -98.4985016105287, 'S MAIN AVE', 2022, 1)]"
      ]
     },
     "execution_count": 80,
     "metadata": {},
     "output_type": "execute_result"
    }
   ],
   "source": [
    "query_table('Main', year='historical', zipcode=78204) # case for which street, year, and zipcode are provided, year is historical"
   ]
  },
  {
   "cell_type": "code",
   "execution_count": 81,
   "id": "f997cfc1-9786-4866-9fce-57103d335e45",
   "metadata": {},
   "outputs": [
    {
     "name": "stdout",
     "output_type": "stream",
     "text": [
      "QUERY: \n",
      "        SELECT latitude, longitude, street_name, year, council_district\n",
      "        FROM potholes WHERE 1=1\n",
      "     AND street_name ILIKE '%San Pedro%' AND year = ? AND zipcode = ? AND council_district = ?\n",
      "PARAMS: [2021, 78212, 1]\n"
     ]
    }
   ],
   "source": [
    "candidates = query_table(street='San Pedro', year=2021, zipcode=78212, district=1)"
   ]
  },
  {
   "cell_type": "code",
   "execution_count": 82,
   "id": "3b96e39d-67df-4113-afce-d2c869ee6cc9",
   "metadata": {},
   "outputs": [
    {
     "data": {
      "text/plain": [
       "2"
      ]
     },
     "execution_count": 82,
     "metadata": {},
     "output_type": "execute_result"
    }
   ],
   "source": [
    "len(candidates)"
   ]
  },
  {
   "cell_type": "code",
   "execution_count": 83,
   "id": "e7f28328-bee1-4bd9-a544-d4868b0a0b31",
   "metadata": {},
   "outputs": [
    {
     "data": {
      "text/plain": [
       "[(29.4885498296817, -98.4988725376364, 'SAN PEDRO AVE', 2021, 1),\n",
       " (29.4890345103144, -98.4997786282976, 'SAN PEDRO AVE', 2021, 1)]"
      ]
     },
     "execution_count": 83,
     "metadata": {},
     "output_type": "execute_result"
    }
   ],
   "source": [
    "candidates"
   ]
  },
  {
   "cell_type": "code",
   "execution_count": 84,
   "id": "6221bd1a-58cf-408a-86ae-96d6af621cdd",
   "metadata": {},
   "outputs": [
    {
     "name": "stdout",
     "output_type": "stream",
     "text": [
      "QUERY: \n",
      "        SELECT latitude, longitude, street_name, year, council_district\n",
      "        FROM potholes WHERE 1=1\n",
      "     AND street_name ILIKE '%San Pedro%' AND year = ? AND zipcode = ? AND council_district = ?\n",
      "PARAMS: [2021, 78216, 1]\n"
     ]
    }
   ],
   "source": [
    "candidates = query_table(street='San Pedro', year=2021, zipcode=78216, district=1)"
   ]
  },
  {
   "cell_type": "code",
   "execution_count": 85,
   "id": "190f1a68-7f4e-41d6-b033-82525c334bad",
   "metadata": {},
   "outputs": [
    {
     "data": {
      "text/plain": [
       "29"
      ]
     },
     "execution_count": 85,
     "metadata": {},
     "output_type": "execute_result"
    }
   ],
   "source": [
    "len(candidates)"
   ]
  },
  {
   "cell_type": "markdown",
   "id": "ce2de261-d40a-4427-899b-5fc903a27d1e",
   "metadata": {},
   "source": [
    "## "
   ]
  },
  {
   "cell_type": "code",
   "execution_count": 86,
   "id": "c92458ac-917a-436f-818b-388634cb3ab7",
   "metadata": {},
   "outputs": [
    {
     "name": "stdout",
     "output_type": "stream",
     "text": [
      "QUERY: \n",
      "        SELECT latitude, longitude, street_name, year, council_district\n",
      "        FROM potholes WHERE 1=1\n",
      "     AND zipcode = ?\n",
      "PARAMS: [78249]\n"
     ]
    },
    {
     "data": {
      "text/plain": [
       "987"
      ]
     },
     "execution_count": 86,
     "metadata": {},
     "output_type": "execute_result"
    },
    {
     "ename": "",
     "evalue": "",
     "output_type": "error",
     "traceback": [
      "\u001b[1;31mThe Kernel crashed while executing code in the current cell or a previous cell. \n",
      "\u001b[1;31mPlease review the code in the cell(s) to identify a possible cause of the failure. \n",
      "\u001b[1;31mClick <a href='https://aka.ms/vscodeJupyterKernelCrash'>here</a> for more info. \n",
      "\u001b[1;31mView Jupyter <a href='command:jupyter.viewOutput'>log</a> for further details."
     ]
    }
   ],
   "source": [
    "len(query_table(zipcode=78249))"
   ]
  },
  {
   "cell_type": "markdown",
   "id": "7246d001-162c-4de7-8e59-ff10d780f0cb",
   "metadata": {},
   "source": [
    "# Embeddings\n",
    "We will now create embeddings for the distinct street entries. This will allow us to process requests such as "
   ]
  },
  {
   "cell_type": "code",
   "execution_count": null,
   "id": "29580331-b431-4c72-ae49-9ffcb5029200",
   "metadata": {},
   "outputs": [],
   "source": []
  }
 ],
 "metadata": {
  "kernelspec": {
   "display_name": "Python 3",
   "language": "python",
   "name": "python3"
  },
  "language_info": {
   "codemirror_mode": {
    "name": "ipython",
    "version": 3
   },
   "file_extension": ".py",
   "mimetype": "text/x-python",
   "name": "python",
   "nbconvert_exporter": "python",
   "pygments_lexer": "ipython3",
   "version": "3.12.6"
  }
 },
 "nbformat": 4,
 "nbformat_minor": 5
}
